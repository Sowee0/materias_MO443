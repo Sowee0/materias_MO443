{
 "cells": [
  {
   "cell_type": "code",
   "execution_count": null,
   "metadata": {},
   "outputs": [],
   "source": []
  }
 ],
 "metadata": {
  "kernelspec": {
   "display_name": "Python 3.9.2 64-bit",
   "name": "python392jvsc74a57bd05891c0768c22597453a57b51a3c94024de68fd0b35f53d5e32c11d37e4a0b552"
  },
  "language_info": {
   "name": "python",
   "version": ""
  },
  "metadata": {
   "interpreter": {
    "hash": "5891c0768c22597453a57b51a3c94024de68fd0b35f53d5e32c11d37e4a0b552"
   }
  },
  "orig_nbformat": 2
 },
 "nbformat": 4,
 "nbformat_minor": 2
}
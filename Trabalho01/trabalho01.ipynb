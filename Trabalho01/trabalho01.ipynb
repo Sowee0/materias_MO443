{
 "cells": [
  {
   "cell_type": "markdown",
   "metadata": {},
   "source": [
    "# MO443 - Introdução ao Processamento de imagem digital | Trabalho 01"
   ]
  },
  {
   "cell_type": "code",
   "execution_count": null,
   "metadata": {},
   "outputs": [],
   "source": [
    "#Importando as bibliotecas que são usadas ao longo do trabalho\r\n",
    "import numpy as np\r\n",
    "import cv2 as cv\r\n",
    "import matplotlib.pyplot as plt\r\n",
    "from time import time as t\r\n",
    "\r\n",
    "#índices\r\n",
    "r = 1\r\n",
    "g = 2\r\n",
    "b = 3"
   ]
  },
  {
   "cell_type": "markdown",
   "metadata": {},
   "source": [
    "## Exercício 1.1a:\r\n",
    "\r\n",
    "Este primeiro exercício está pautado na manipulação dos três canais de cor de uma imagem. Para a primeira letra, a imagem resultante tem como cada um dos seus canais uma associação dos canais da imagem original, poderados por diferentes pesos definidos previamente. Isso pode ser solucionado facilmente por um slicing da imagem original recebendo todos os pixels de um certo canal e multiplicando-os com uma multiplicação elemento-a-elemento, isso segue então por uma soma do mesmo feito para os outros dois canais.\r\n",
    "\r\n"
   ]
  },
  {
   "cell_type": "code",
   "execution_count": null,
   "metadata": {},
   "outputs": [],
   "source": [
    "#Carregando a imagem\r\n",
    "#imagem = np.zeros([128,128,3])\r\n",
    "imagem = cv.cvtColor(cv.imread(\"monalisa.png\"), cv.COLOR_BGR2RGB)\r\n",
    "imagemProcessada = np.ones_like(imagem)\r\n",
    "\r\n",
    "cv.imshow('image',imagem)\r\n",
    "cv.waitKey(0)\r\n",
    "cv.destroyAllWindows()\r\n",
    "\r\n",
    "#Processando a figura, usando composições das três cores. É interessante observar que o operador +, para ndarray, é o mesmo que np.add().\r\n",
    "imagemProcessada[:,:,0] = np.multiply(imagem[:,:,0], 0.0393) + np.multiply(imagem[:,:,1], 0.769) + np.multiply(imagem[:,:,2], 0.189)\r\n",
    "imagemProcessada[:,:,1] = np.multiply(imagem[:,:,0], 0.0349) + np.multiply(imagem[:,:,1], 0.686) + np.multiply(imagem[:,:,2], 0.168)\r\n",
    "imagemProcessada[:,:,2] = np.multiply(imagem[:,:,0], 0.0272) + np.multiply(imagem[:,:,1], 0.534) + np.multiply(imagem[:,:,2], 0.131)\r\n",
    "\r\n",
    "#Definindo um limite superior para os valores da imagem processada\r\n",
    "imagemProcessada[imagemProcessada > 255] = 255\r\n",
    "\r\n",
    "#Mostrando a imagem\r\n",
    "plt.figure(figsize=(10,10))\r\n",
    "\r\n",
    "\r\n",
    "plt.subplot(1,2,1)\r\n",
    "plt.title(\"Imagem Original\")\r\n",
    "plt.axis(\"off\")\r\n",
    "plt.imshow(imagem)\r\n",
    "\r\n",
    "\r\n",
    "plt.subplot(1,2,2)\r\n",
    "plt.title(\"Imagem Processada\")\r\n",
    "plt.axis(\"off\")\r\n",
    "plt.imshow(imagemProcessada)\r\n",
    "\r\n",
    "plt.show()\r\n",
    "\r\n",
    "#Salvando a imagem processada\r\n"
   ]
  },
  {
   "cell_type": "markdown",
   "metadata": {},
   "source": [
    "## Exercício 1.1b:"
   ]
  },
  {
   "cell_type": "code",
   "execution_count": null,
   "metadata": {},
   "outputs": [],
   "source": [
    "#Carregando a imagem e criando uma imagem de mesma forma porém com um só canal.\r\n",
    "#imagem = cv.imread(\"monalisa.png\")\r\n",
    "#imagem = np.zeros([128,128,3])\r\n",
    "imagemProcessada = np.zeros_like(imagem)\r\n",
    "\r\n",
    "#Convertendo a imagem para escala de cinza\r\n",
    "imagemProcessada[:,:,0] = (np.multiply(imagem[:,:,0], 0.2989) + np.multiply(imagem[:,:,1], 0.5870) + np.multiply(imagem[:,:,2], 0.1140))\r\n",
    "imagemProcessada[:,:,1] = (np.multiply(imagem[:,:,0], 0.2989) + np.multiply(imagem[:,:,1], 0.5870) + np.multiply(imagem[:,:,2], 0.1140))\r\n",
    "imagemProcessada[:,:,2] = (np.multiply(imagem[:,:,0], 0.2989) + np.multiply(imagem[:,:,1], 0.5870) + np.multiply(imagem[:,:,2], 0.1140))\r\n",
    "\r\n",
    "#Mostrando a imagem\r\n",
    "plt.figure(figsize=(10,10))\r\n",
    "\r\n",
    "plt.subplot(1,2,1)\r\n",
    "plt.title(\"Imagem Original\")\r\n",
    "plt.axis(\"off\")\r\n",
    "plt.imshow(imagem)\r\n",
    "\r\n",
    "plt.subplot(1,2,2)\r\n",
    "plt.title(\"Imagem Processada\")\r\n",
    "plt.axis(\"off\")\r\n",
    "plt.imshow(imagemProcessada)\r\n",
    "\r\n",
    "plt.show()\r\n",
    "\r\n"
   ]
  },
  {
   "cell_type": "markdown",
   "metadata": {},
   "source": [
    "## Exercício 1.2:"
   ]
  },
  {
   "cell_type": "code",
   "execution_count": null,
   "metadata": {},
   "outputs": [],
   "source": [
    "#Iniciando as matrizes dos filtros\r\n",
    "\r\n",
    "h1 = np.array([[-1,  0,  1], [-2, 0, 2], [-1, 0, 1]])\r\n",
    "\r\n",
    "h2 = np.array([[-1, -2, -1], [0, 0, 0], [1, 2, 1]])\r\n",
    "\r\n",
    "h12 = np.sqrt(np.add(np.power(h1,2), np.power(h2,2)))\r\n",
    "\r\n",
    "h3 = np.full([3, 3],-1)\r\n",
    "h3[1,1] = 8;\r\n",
    "\r\n",
    "h4 = np.ones([3,3])/9\r\n",
    "\r\n",
    "h5 = np.full([3,3], -1)\r\n",
    "np.fill_diagonal(h5,2)\r\n",
    "\r\n",
    "h6 = h5\r\n",
    "h5 = np.fliplr(h5)\r\n",
    "\r\n",
    "h7 = np.zeros([3,3])\r\n",
    "h7[0,2] = 1\r\n",
    "h7[2,0] = 1\r\n",
    "\r\n",
    "h8 = 0\r\n",
    "\r\n",
    "h9 = np.array([1, 4, 6, 4, 1])\r\n",
    "aux = np.full([5,5],1)\r\n",
    "aux = np.multiply(aux,h9)\r\n",
    "h9 = np.multiply(aux.T,h9)/256"
   ]
  },
  {
   "cell_type": "code",
   "execution_count": null,
   "metadata": {},
   "outputs": [],
   "source": [
    "def convoluciona(imagem, kernel):\r\n",
    "    "
   ]
  }
 ],
 "metadata": {
  "kernelspec": {
   "display_name": "Python 3.9.2 64-bit",
   "name": "python392jvsc74a57bd05891c0768c22597453a57b51a3c94024de68fd0b35f53d5e32c11d37e4a0b552"
  },
  "language_info": {
   "name": "python",
   "version": ""
  },
  "metadata": {
   "interpreter": {
    "hash": "5891c0768c22597453a57b51a3c94024de68fd0b35f53d5e32c11d37e4a0b552"
   }
  },
  "orig_nbformat": 2
 },
 "nbformat": 4,
 "nbformat_minor": 2
}